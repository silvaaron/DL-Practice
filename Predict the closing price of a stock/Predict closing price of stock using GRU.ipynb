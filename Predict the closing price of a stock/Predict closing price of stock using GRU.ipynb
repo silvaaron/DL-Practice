{
 "cells": [
  {
   "cell_type": "code",
   "execution_count": null,
   "metadata": {},
   "outputs": [],
   "source": [
    "import numpy as np\n",
    "import pandas as pd\n",
    "from matplotlib import pyplot as plt"
   ]
  },
  {
   "cell_type": "code",
   "execution_count": null,
   "metadata": {},
   "outputs": [],
   "source": [
    "df = pd.read_csv('ny_stock_prediction.csv', header = 0)\n",
    "df.head()"
   ]
  },
  {
   "cell_type": "code",
   "execution_count": null,
   "metadata": {},
   "outputs": [],
   "source": [
    "df.shape"
   ]
  },
  {
   "cell_type": "code",
   "execution_count": null,
   "metadata": {},
   "outputs": [],
   "source": [
    "unique, counts = np.unique(df.symbol, return_counts=True)\n",
    "np.array((unique, counts)).T"
   ]
  },
  {
   "cell_type": "code",
   "execution_count": null,
   "metadata": {},
   "outputs": [],
   "source": [
    "df_yahoo = df[df['symbol']=='YHOO']\n",
    "df_yahoo.head()"
   ]
  },
  {
   "cell_type": "code",
   "execution_count": null,
   "metadata": {},
   "outputs": [],
   "source": [
    "df_yahoo.shape"
   ]
  },
  {
   "cell_type": "code",
   "execution_count": null,
   "metadata": {},
   "outputs": [],
   "source": [
    "df_yahoo.describe"
   ]
  },
  {
   "cell_type": "code",
   "execution_count": null,
   "metadata": {},
   "outputs": [],
   "source": [
    "df_yahoo.isnull().sum()"
   ]
  },
  {
   "cell_type": "code",
   "execution_count": null,
   "metadata": {},
   "outputs": [],
   "source": [
    "df_yahoo['date']= pd.to_datetime(df_yahoo['date'])\n",
    "print(df_yahoo.date.dtype)"
   ]
  },
  {
   "cell_type": "code",
   "execution_count": null,
   "metadata": {},
   "outputs": [],
   "source": [
    "df_yahoo = df_yahoo.set_index(\"date\")\n",
    "df_yahoo.head()"
   ]
  },
  {
   "cell_type": "code",
   "execution_count": null,
   "metadata": {},
   "outputs": [],
   "source": [
    "print(df_yahoo.shape)"
   ]
  },
  {
   "cell_type": "code",
   "execution_count": null,
   "metadata": {},
   "outputs": [],
   "source": [
    "yahoo_data = df_yahoo.asfreq('b')\n",
    "print(yahoo_data.shape)"
   ]
  },
  {
   "cell_type": "code",
   "execution_count": null,
   "metadata": {},
   "outputs": [],
   "source": [
    "yahoo_data.tail()"
   ]
  },
  {
   "cell_type": "code",
   "execution_count": null,
   "metadata": {},
   "outputs": [],
   "source": [
    "yahoo_data.isnull().sum()"
   ]
  },
  {
   "cell_type": "code",
   "execution_count": null,
   "metadata": {},
   "outputs": [],
   "source": [
    "null_data = yahoo_data[yahoo_data.isnull().any(axis=1)]\n",
    "null_data.head()"
   ]
  },
  {
   "cell_type": "code",
   "execution_count": null,
   "metadata": {},
   "outputs": [],
   "source": [
    "null_dates = null_data.index.tolist()"
   ]
  },
  {
   "cell_type": "code",
   "execution_count": null,
   "metadata": {},
   "outputs": [],
   "source": [
    "import calendar\n",
    "import datetime\n",
    "\n",
    "holidays = []\n",
    "\n",
    "for date in null_dates:\n",
    "    week, day, month, year = date.weekday(), date.day, date.month, date.year\n",
    "    week_day = calendar.day_name[week]\n",
    "\n",
    "    if month==1:\n",
    "        if day==1:\n",
    "            # New year day\n",
    "            holidays.append(date)\n",
    "        elif day==2 and week_day=='Monday':\n",
    "            # Observed New Year Day\n",
    "            holidays.append(date)\n",
    "        elif day>=15 and day<=21 and week_day=='Monday':\n",
    "            # Martin Luther King, Jr. Day\n",
    "            holidays.append(date)\n",
    "\n",
    "    elif month==2:\n",
    "        # Washington's Birthday\n",
    "        if day>=15 and day<=21 and week_day=='Monday':\n",
    "            holidays.append(date)\n",
    "\n",
    "    elif month==5:\n",
    "        # Memorial day\n",
    "        if day>=25 and day<=31 and week_day=='Monday':\n",
    "            holidays.append(date)\n",
    "\n",
    "    elif month==7:\n",
    "        # Independence day\n",
    "        if day==4:\n",
    "            holidays.append(date)\n",
    "        # Observed Independence  Day\n",
    "        elif day==5 and week_day=='Monday':\n",
    "            holidays.append(date)\n",
    "        elif day==3 and week_day=='Friday':\n",
    "            holidays.append(date)\n",
    "\n",
    "    elif month == 9:\n",
    "        # Labour day\n",
    "        if day>=1 and day<=7 and week_day=='Monday':\n",
    "            holidays.append(date)\n",
    "\n",
    "    elif month==11:\n",
    "        # Thanksgiving Day\n",
    "        if week_day=='Thursday' and day>=22 and day<=28:\n",
    "            holidays.append(date)\n",
    "\n",
    "    elif month==12:\n",
    "        # Christmas Day\n",
    "        if day==25:\n",
    "            holidays.append(date)\n",
    "        # Observed Christmas Day\n",
    "        elif day==24 and week_day=='Friday':\n",
    "            holidays.append(date)\n",
    "        elif day==26 and week_day=='Monday':\n",
    "            holidays.append(date)\n",
    "\n",
    "good_fridays = [ datetime.date(2010,4,2), datetime.date(2011,4,22), datetime.date(2012,4,6), datetime.date(2013,3,29), datetime.date(2014,4,18), datetime.date(2015,4,3), datetime.date(2016,3,25) ]\n",
    "holidays = holidays + [pd.to_datetime(date) for date in good_fridays]\n",
    "\n",
    "non_holidays = [x for x in null_dates if x not in holidays]\n",
    "print(non_holidays)"
   ]
  },
  {
   "cell_type": "code",
   "execution_count": null,
   "metadata": {},
   "outputs": [],
   "source": [
    "print(yahoo_data.shape)"
   ]
  },
  {
   "cell_type": "code",
   "execution_count": null,
   "metadata": {},
   "outputs": [],
   "source": [
    "modified_df = yahoo_data.drop(holidays)\n",
    "print(modified_df.shape)"
   ]
  },
  {
   "cell_type": "code",
   "execution_count": null,
   "metadata": {},
   "outputs": [],
   "source": [
    "print(\"Before filling missing values:\\n\", modified_df.isnull().sum())"
   ]
  },
  {
   "cell_type": "code",
   "execution_count": null,
   "metadata": {},
   "outputs": [],
   "source": [
    "modified_df = modified_df.bfill(axis ='rows')\n",
    "print(\"\\nAfter filling missing values:\\n\",modified_df.isna().sum())"
   ]
  },
  {
   "cell_type": "code",
   "execution_count": null,
   "metadata": {},
   "outputs": [],
   "source": [
    "def plotter(code):\n",
    "    global closing_stock\n",
    "    plt.subplot(211)\n",
    "    company_close = modified_df[modified_df['symbol']==code]\n",
    "    company_close = company_close.close.values.astype('float32')\n",
    "    company_close = company_close.reshape(-1, 1)\n",
    "    closing_stock = company_close\n",
    "    plt.xlabel('Time')\n",
    "    plt.ylabel(code + \" close stock prices\")\n",
    "    plt.title('prices Vs Time')\n",
    "    plt.grid(True)\n",
    "    plt.plot(company_close , 'b')\n",
    "    plt.show()\n",
    "\n",
    "plotter(\"YHOO\")"
   ]
  },
  {
   "cell_type": "code",
   "execution_count": null,
   "metadata": {},
   "outputs": [],
   "source": [
    "n_train = int(len(closing_stock) * 0.80)\n",
    "n_remaining = len(closing_stock) - n_train\n",
    "\n",
    "n_val = int(n_remaining*0.50)\n",
    "n_test = n_remaining - n_val \n",
    "print(\"Train samples:\",n_train, \"Validation Samples:\",n_val,\"Test Samples:\", n_test)"
   ]
  },
  {
   "cell_type": "code",
   "execution_count": null,
   "metadata": {},
   "outputs": [],
   "source": [
    "train_data = closing_stock[0:n_train]\n",
    "print(train_data.shape)\n",
    "\n",
    "val_data = closing_stock[n_train:n_train + n_val]\n",
    "print(val_data.shape)\n",
    "\n",
    "test_data = closing_stock[n_train + n_val : ]\n",
    "print(test_data.shape)"
   ]
  },
  {
   "cell_type": "code",
   "execution_count": null,
   "metadata": {},
   "outputs": [],
   "source": [
    "from sklearn.preprocessing import MinMaxScaler\n",
    "\n",
    "scaler = MinMaxScaler(feature_range=(0,1))\n",
    "\n",
    "train = scaler.fit_transform(train_data)\n",
    "\n",
    "val = scaler.transform(val_data)\n",
    "\n",
    "test = scaler.transform(test_data)"
   ]
  },
  {
   "cell_type": "code",
   "execution_count": null,
   "metadata": {},
   "outputs": [],
   "source": [
    "def create_dataset(data , n_features):\n",
    "    dataX, dataY = [], []\n",
    "    for i in range(len(data)-n_features-1):\n",
    "        a = data[i:(i+n_features), 0]\n",
    "        dataX.append(a)\n",
    "        dataY.append(data[i + n_features, 0])\n",
    "    return np.array(dataX), np.array(dataY)"
   ]
  },
  {
   "cell_type": "code",
   "execution_count": null,
   "metadata": {},
   "outputs": [],
   "source": [
    "n_features = 2\n",
    "\n",
    "trainX, trainY = create_dataset(train, n_features)\n",
    "valX, valY = create_dataset(val, n_features)\n",
    "testX, testY = create_dataset(test, n_features)\n",
    "\n",
    "print(trainX.shape , trainY.shape , valX.shape , valY.shape,\n",
    "      testX.shape , testY.shape)"
   ]
  },
  {
   "cell_type": "code",
   "execution_count": null,
   "metadata": {},
   "outputs": [],
   "source": [
    "trainX = trainX.reshape(trainX.shape[0] , 1 ,trainX.shape[1])\n",
    "valX = valX.reshape(valX.shape[0] , 1 ,valX.shape[1])\n",
    "testX = testX.reshape(testX.shape[0] , 1 ,testX.shape[1])\n",
    "\n",
    "print(trainX.shape , trainY.shape , valX.shape , valY.shape,\n",
    "      testX.shape , testY.shape)"
   ]
  },
  {
   "cell_type": "code",
   "execution_count": null,
   "metadata": {},
   "outputs": [],
   "source": [
    "import tensorflow as tf\n",
    "tf.random.set_seed(42)\n",
    "\n",
    "from tensorflow import keras\n",
    "from tensorflow.keras import layers\n",
    "from tensorflow.keras.optimizers import Adam"
   ]
  },
  {
   "cell_type": "code",
   "execution_count": null,
   "metadata": {},
   "outputs": [],
   "source": [
    "model = keras.Sequential()\n",
    "\n",
    "# First GRU layer\n",
    "model.add(layers.GRU(units=100, return_sequences=True, input_shape=(1,n_features), activation='tanh'))\n",
    "model.add(layers.Dropout(0.2))\n",
    "\n",
    "# Second GRU layer\n",
    "model.add(layers.GRU(units=150, return_sequences=True, input_shape=(1,n_features), activation='tanh'))\n",
    "model.add(layers.Dropout(0.2))\n",
    "\n",
    "# Third GRU layer\n",
    "model.add(layers.GRU(units=100, activation='tanh'))\n",
    "model.add(layers.Dropout(0.2))\n",
    "\n",
    "# The output layer\n",
    "model.add(layers.Dense(units=1, kernel_initializer='he_uniform', activation='linear'))"
   ]
  },
  {
   "cell_type": "code",
   "execution_count": null,
   "metadata": {},
   "outputs": [],
   "source": [
    "model.compile(loss='mean_squared_error', \n",
    "              optimizer=Adam(lr = 0.0005), \n",
    "              metrics = ['mean_squared_error'])\n",
    "\n",
    "print(model.summary())"
   ]
  },
  {
   "cell_type": "code",
   "execution_count": null,
   "metadata": {},
   "outputs": [],
   "source": [
    "history = model.fit(trainX,trainY,epochs=100,batch_size=128,\n",
    "                    verbose=1, validation_data = (valX,valY))"
   ]
  },
  {
   "cell_type": "code",
   "execution_count": null,
   "metadata": {},
   "outputs": [],
   "source": [
    "print(history.history.keys())"
   ]
  },
  {
   "cell_type": "code",
   "execution_count": null,
   "metadata": {},
   "outputs": [],
   "source": [
    "plt.plot(history.history['loss'])  # plotting train loss\n",
    "plt.plot(history.history['val_loss'])  # plotting validation loss\n",
    "\n",
    "plt.title('model loss')\n",
    "plt.ylabel('loss')\n",
    "plt.xlabel('epoch')\n",
    "plt.legend(['train', 'val'], loc='upper left')\n",
    "plt.show()"
   ]
  },
  {
   "cell_type": "code",
   "execution_count": null,
   "metadata": {},
   "outputs": [],
   "source": [
    "import math\n",
    "\n",
    "def model_score(model, X_train, y_train, X_val, y_val , X_test, y_test):\n",
    "    print('Train Score:')\n",
    "    train_score = model.evaluate(X_train, y_train, verbose=0)\n",
    "    print(\"MSE: {:.5f} , RMSE: {:.2f}\".format(train_score[0], math.sqrt(train_score[0])))\n",
    "\n",
    "    print('Validation Score:')\n",
    "    val_score = model.evaluate(X_val, y_val, verbose=0)\n",
    "    print(\"MSE: {:.5f} , RMSE: {:.2f}\".format (val_score[0], math.sqrt(val_score[0])))\n",
    "\n",
    "    print('Test Score:')\n",
    "    test_score = model.evaluate(X_test, y_test, verbose=0)\n",
    "    print(\"MSE: {:.5f} , RMSE: {:.2f}\".format (test_score[0], math.sqrt(test_score[0])))\n",
    "\n",
    "\n",
    "model_score(model, trainX, trainY ,valX, valY , testX, testY)"
   ]
  },
  {
   "cell_type": "code",
   "execution_count": null,
   "metadata": {},
   "outputs": [],
   "source": [
    "pred = model.predict(testX)\n",
    "\n",
    "# Since we have scaled the actual values of the dataset, we need to inverse transform the values.\n",
    "pred = scaler.inverse_transform(pred)\n",
    "print(pred[:10])"
   ]
  },
  {
   "cell_type": "code",
   "execution_count": null,
   "metadata": {},
   "outputs": [],
   "source": [
    "testY_actual = testY.reshape(testY.shape[0] , 1)\n",
    "\n",
    "testY_actual = scaler.inverse_transform(testY_actual)\n",
    "print(testY_actual[:10])"
   ]
  },
  {
   "cell_type": "code",
   "execution_count": null,
   "metadata": {},
   "outputs": [],
   "source": [
    "plt.plot(testY_actual , 'b')\n",
    "plt.plot(pred , 'r')\n",
    "\n",
    "plt.xlabel('Time')\n",
    "plt.ylabel('Stock Prices')\n",
    "plt.title('Check the performance of the model with time')\n",
    "plt.legend(['Actual', 'Predicted'], loc='upper left')\n",
    "\n",
    "plt.grid(True)\n",
    "plt.show()"
   ]
  },
  {
   "cell_type": "code",
   "execution_count": null,
   "metadata": {},
   "outputs": [],
   "source": []
  },
  {
   "cell_type": "code",
   "execution_count": null,
   "metadata": {},
   "outputs": [],
   "source": []
  },
  {
   "cell_type": "code",
   "execution_count": null,
   "metadata": {},
   "outputs": [],
   "source": []
  },
  {
   "cell_type": "code",
   "execution_count": null,
   "metadata": {},
   "outputs": [],
   "source": []
  }
 ],
 "metadata": {
  "kernelspec": {
   "display_name": "Python 3",
   "language": "python",
   "name": "python3"
  },
  "language_info": {
   "codemirror_mode": {
    "name": "ipython",
    "version": 3
   },
   "file_extension": ".py",
   "mimetype": "text/x-python",
   "name": "python",
   "nbconvert_exporter": "python",
   "pygments_lexer": "ipython3",
   "version": "3.7.7"
  }
 },
 "nbformat": 4,
 "nbformat_minor": 4
}
